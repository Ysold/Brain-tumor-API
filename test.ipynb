{
 "cells": [
  {
   "cell_type": "code",
   "execution_count": 2,
   "metadata": {},
   "outputs": [
    {
     "data": {
      "text/plain": [
       "'{\"message\":\"Hello World\"}'"
      ]
     },
     "execution_count": 2,
     "metadata": {},
     "output_type": "execute_result"
    }
   ],
   "source": [
    "import requests\n",
    "\n",
    "response = requests.get(\"http://127.0.0.1:8000\")\n",
    "response.text"
   ]
  },
  {
   "cell_type": "code",
   "execution_count": 5,
   "metadata": {},
   "outputs": [
    {
     "data": {
      "text/plain": [
       "'{\"message\":\"Hello Test\"}'"
      ]
     },
     "execution_count": 5,
     "metadata": {},
     "output_type": "execute_result"
    }
   ],
   "source": [
    "response = requests.get(\"http://127.0.0.1:8000/hello_you\", params={'name':'Test'})\n",
    "response.text"
   ]
  },
  {
   "cell_type": "code",
   "execution_count": 5,
   "metadata": {},
   "outputs": [
    {
     "ename": "NameError",
     "evalue": "name 'base_model' is not defined",
     "output_type": "error",
     "traceback": [
      "\u001b[1;31m---------------------------------------------------------------------------\u001b[0m",
      "\u001b[1;31mNameError\u001b[0m                                 Traceback (most recent call last)",
      "Cell \u001b[1;32mIn[5], line 13\u001b[0m\n\u001b[0;32m     10\u001b[0m model\u001b[38;5;241m.\u001b[39madd(Input(shape\u001b[38;5;241m=\u001b[39mIMG_SIZE \u001b[38;5;241m+\u001b[39m (\u001b[38;5;241m3\u001b[39m,)))\n\u001b[0;32m     12\u001b[0m \u001b[38;5;66;03m# Ajout de votre modèle de base (base_model)\u001b[39;00m\n\u001b[1;32m---> 13\u001b[0m model\u001b[38;5;241m.\u001b[39madd(\u001b[43mbase_model\u001b[49m)\n\u001b[0;32m     15\u001b[0m \u001b[38;5;66;03m# Ajout d'une couche de Dropout pour la régularisation\u001b[39;00m\n\u001b[0;32m     16\u001b[0m model\u001b[38;5;241m.\u001b[39madd(Dropout(\u001b[38;5;241m0.5\u001b[39m))\n",
      "\u001b[1;31mNameError\u001b[0m: name 'base_model' is not defined"
     ]
    }
   ],
   "source": [
    "import tensorflow\n",
    "import keras\n",
    "from keras.models import load_model\n",
    "from keras.models import Sequential\n",
    "from tensorflow.keras.layers import Input\n",
    "from keras.applications import VGG16\n",
    "from tensorflow.keras import layers\n",
    "# Créez un nouveau modèle avec la même architecture\n",
    "IMG_SIZE = (224,224)\n",
    "\n",
    "new_model = Sequential()\n",
    "new_model.add(Input(shape=IMG_SIZE + (3,)))\n",
    "new_model.add(VGG16(weights='imagenet', include_top=False))\n",
    "new_model.add(layers.Flatten())\n",
    "new_model.add(layers.Dropout(0.5))\n",
    "new_model.add(layers.Dense(1, activation='sigmoid'))\n",
    "\n",
    "# Compilez le nouveau modèle\n",
    "new_model.compile(\n",
    "    loss='binary_crossentropy',\n",
    "    optimizer=RMSprop(learning_rate=1e-4),\n",
    "    metrics=['accuracy']\n",
    ")\n",
    "\n",
    "# Chargez les poids dans le nouveau modèle\n",
    "new_model.load_weights('model_rayan.weights.h5')"
   ]
  },
  {
   "cell_type": "code",
   "execution_count": 7,
   "metadata": {},
   "outputs": [
    {
     "data": {
      "text/plain": [
       "[0, 30, 0, 4, 10, 0, 0, 0]"
      ]
     },
     "execution_count": 7,
     "metadata": {},
     "output_type": "execute_result"
    }
   ],
   "source": [
    "data = {\n",
    "  \"Gender\": 0,\n",
    "  \"Age\": 30,\n",
    "  \"Graduated\": 0,\n",
    "  \"Profession\": 4,\n",
    "  \"Work_Experience\": 10,\n",
    "  \"Spending_Score\": 0,\n",
    "  \"Family_Size\": 0,\n",
    "  \"Segmentation\": 0\n",
    "}\n",
    "\n",
    "list(data.values())"
   ]
  },
  {
   "cell_type": "code",
   "execution_count": 14,
   "metadata": {},
   "outputs": [
    {
     "data": {
      "text/plain": [
       "'{\"Prediction\":\"False\"}'"
      ]
     },
     "execution_count": 14,
     "metadata": {},
     "output_type": "execute_result"
    }
   ],
   "source": [
    "import requests\n",
    "\n",
    "data = {\n",
    "  \"Gender\": 0,\n",
    "  \"Age\": 12,\n",
    "  \"Graduated\": 0,\n",
    "  \"Profession\": 1,\n",
    "  \"Work_Experience\": 0,\n",
    "  \"Spending_Score\": 6,\n",
    "  \"Family_Size\": 0,\n",
    "  \"Segmentation\": 1\n",
    "}\n",
    "\n",
    "requests.post(\"http://127.0.0.1:8000/predict\", \n",
    "              json=data).text"
   ]
  },
  {
   "cell_type": "code",
   "execution_count": null,
   "metadata": {},
   "outputs": [],
   "source": []
  }
 ],
 "metadata": {
  "kernelspec": {
   "display_name": "Python 3",
   "language": "python",
   "name": "python3"
  },
  "language_info": {
   "codemirror_mode": {
    "name": "ipython",
    "version": 3
   },
   "file_extension": ".py",
   "mimetype": "text/x-python",
   "name": "python",
   "nbconvert_exporter": "python",
   "pygments_lexer": "ipython3",
   "version": "3.12.3"
  }
 },
 "nbformat": 4,
 "nbformat_minor": 2
}
